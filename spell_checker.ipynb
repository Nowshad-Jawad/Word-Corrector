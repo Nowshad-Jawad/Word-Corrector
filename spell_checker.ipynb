{
 "cells": [
  {
   "cell_type": "code",
   "execution_count": 1,
   "metadata": {},
   "outputs": [],
   "source": [
    "import os\n",
    "path_to_gs = \"C:\\\\Program Files\\\\gs\\\\gs9.54.0\\\\bin\"\n",
    "os.environ['PATH']+= os.pathsep + path_to_gs"
   ]
  },
  {
   "cell_type": "code",
   "execution_count": 2,
   "metadata": {},
   "outputs": [],
   "source": [
    "import nltk\n",
    "import re\n",
    "import string\n",
    "from collections import Counter\n",
    "import numpy as np"
   ]
  },
  {
   "cell_type": "code",
   "execution_count": 3,
   "metadata": {},
   "outputs": [
    {
     "name": "stdout",
     "output_type": "stream",
     "text": [
      "2621613\n"
     ]
    }
   ],
   "source": [
    "#for collecting all the words from txt files\n",
    "words = nltk.corpus.gutenberg.words()\n",
    "print(len(words))"
   ]
  },
  {
   "cell_type": "code",
   "execution_count": 4,
   "metadata": {},
   "outputs": [
    {
     "name": "stdout",
     "output_type": "stream",
     "text": [
      "51156\n"
     ]
    }
   ],
   "source": [
    "#setting all the unique words to vocabulary\n",
    "vocabs = set(words)\n",
    "print(len(vocabs))"
   ]
  },
  {
   "cell_type": "code",
   "execution_count": 5,
   "metadata": {},
   "outputs": [],
   "source": [
    "def level_one_edits(word):\n",
    "    letters = string.ascii_lowercase\n",
    "    def split(word):\n",
    "        return[(word[:i], word[i:]) for i in range(len(word)+1)]\n",
    "    deletes = [l + r[1:] for l,r in split(word) if r]\n",
    "    swaps = [l + r[1] + r[0] + r[2:] for l,r in split(word) if len(r)>1]\n",
    "    replaces = [l + c + r[1:] for l,r in split(word) if r for c in letters]\n",
    "    inserts = [l + c + r for l,r in split(word) for c in letters]\n",
    "    \n",
    "    return set(deletes + swaps + replaces + inserts)"
   ]
  },
  {
   "cell_type": "code",
   "execution_count": 6,
   "metadata": {},
   "outputs": [],
   "source": [
    "def level_two_edits(word):\n",
    "    return set(e2 for e1 in level_one_edits(word) for e2 in level_one_edits(e1))"
   ]
  },
  {
   "cell_type": "code",
   "execution_count": 7,
   "metadata": {},
   "outputs": [],
   "source": [
    "def correct_spelling(word, vocabulary):\n",
    "\n",
    "    if word in vocabulary:\n",
    "        return print(\"Correctly Spelled\")\n",
    "\n",
    "    print(\"Not Spelled Correctly. Suggested words:\")\n",
    "    suggestion = level_one_edits(word) or level_two_edits(word) or [word]\n",
    "    best_guess = [w for w in suggestion if w in vocabulary]\n",
    "    return [(w) for w in best_guess]"
   ]
  },
  {
   "cell_type": "code",
   "execution_count": 9,
   "metadata": {},
   "outputs": [
    {
     "name": "stdout",
     "output_type": "stream",
     "text": [
      "Not Spelled Correctly. Suggested words:\n",
      "['grammar']\n"
     ]
    }
   ],
   "source": [
    "word = \"gramar\"\n",
    "guess = correct_spelling(word, vocabs)\n",
    "\n",
    "print(guess)"
   ]
  },
  {
   "cell_type": "code",
   "execution_count": null,
   "metadata": {},
   "outputs": [],
   "source": []
  }
 ],
 "metadata": {
  "kernelspec": {
   "display_name": "Python 3",
   "language": "python",
   "name": "python3"
  },
  "language_info": {
   "codemirror_mode": {
    "name": "ipython",
    "version": 3
   },
   "file_extension": ".py",
   "mimetype": "text/x-python",
   "name": "python",
   "nbconvert_exporter": "python",
   "pygments_lexer": "ipython3",
   "version": "3.8.5"
  }
 },
 "nbformat": 4,
 "nbformat_minor": 4
}
